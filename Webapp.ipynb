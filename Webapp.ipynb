{
 "cells": [
  {
   "cell_type": "markdown",
   "metadata": {},
   "source": [
    "## 1. Python librairies"
   ]
  },
  {
   "cell_type": "code",
   "execution_count": 3,
   "metadata": {},
   "outputs": [],
   "source": [
    "import io\n",
    "import json\n",
    "import os\n",
    "import requests\n",
    "import gradio as gr\n",
    "\n",
    "from dotenv import load_dotenv\n",
    "from PIL import Image\n",
    "\n",
    "from azure.core.credentials import AzureKeyCredential\n",
    "from azure.search.documents import SearchClient\n",
    "from azure.search.documents.indexes import SearchIndexClient\n",
    "from azure.search.documents.models import Vector\n",
    "\n",
    "from azure.storage.blob import BlobServiceClient\n",
    "\n",
    "import warnings\n",
    "from tqdm import TqdmWarning\n",
    "\n",
    "warnings.filterwarnings('ignore', category=TqdmWarning)"
   ]
  },
  {
   "cell_type": "markdown",
   "metadata": {},
   "source": [
    "## 2. Azure AI Services"
   ]
  },
  {
   "cell_type": "code",
   "execution_count": 5,
   "metadata": {},
   "outputs": [],
   "source": [
    "load_dotenv(\"azure.env\")\n",
    "\n",
    "acv_key = os.getenv(\"acv_key\")\n",
    "acv_endpoint = os.getenv(\"acv_endpoint\")\n",
    "\n",
    "acs_endpoint = os.getenv(\"acs_endpoint\")\n",
    "acs_key = os.getenv(\"acs_key\")\n",
    "\n",
    "if acv_endpoint.endswith(\"/\"):\n",
    "    acv_endpoint = acv_endpoint[:-1]\n",
    "\n",
    "if acs_endpoint.endswith(\"/\"):\n",
    "    acs_endpoint = acv_endpoint[:-1]\n",
    "    \n",
    "blob_connection_string = os.getenv(\"blob_connection_string\")\n",
    "container_name = os.getenv(\"container_name\")\n",
    "\n",
    "index_name = \"fashion-demo\"\n",
    "\n",
    "api_version = \"2023-02-01-preview\""
   ]
  },
  {
   "cell_type": "markdown",
   "metadata": {},
   "source": [
    "## 3. Functions & parameters"
   ]
  },
  {
   "cell_type": "code",
   "execution_count": 6,
   "metadata": {},
   "outputs": [],
   "source": [
    "def text_embedding(prompt):\n",
    "    version = \"?api-version=\" + api_version + \"&modelVersion=latest\"\n",
    "    vec_txt_url = f\"{acv_endpoint}/computervision/retrieval:vectorizeText{version}\"\n",
    "    headers = {\"Content-type\": \"application/json\", \"Ocp-Apim-Subscription-Key\": acv_key}\n",
    "\n",
    "    payload = {\"text\": prompt}\n",
    "    response = requests.post(vec_txt_url, json=payload, headers=headers)\n",
    "\n",
    "    if response.status_code == 200:\n",
    "        text_emb = response.json().get(\"vector\")\n",
    "        return text_emb\n",
    "\n",
    "    else:\n",
    "        print(f\"Error: {response.status_code} - {response.text}\")\n",
    "        return None"
   ]
  },
  {
   "cell_type": "code",
   "execution_count": 7,
   "metadata": {},
   "outputs": [],
   "source": [
    "def index_stats(index_name):\n",
    "    url = (\n",
    "        acs_endpoint\n",
    "        + \"/indexes/\"\n",
    "        + index_name\n",
    "        + \"/stats?api-version=2021-04-30-Preview\"\n",
    "    )\n",
    "    headers = {\n",
    "        \"Content-Type\": \"application/json\",\n",
    "        \"api-key\": acs_key,\n",
    "    }\n",
    "    response = requests.get(url, headers=headers)\n",
    "    print(\"Azure Cognitive Search index status for:\", index_name, \"\\n\")\n",
    "\n",
    "    if response.status_code == 200:\n",
    "        res = response.json()\n",
    "        print(json.dumps(res, indent=2))\n",
    "\n",
    "    else:\n",
    "        print(\"Request failed with status code:\", response.status_code)"
   ]
  },
  {
   "cell_type": "code",
   "execution_count": 8,
   "metadata": {},
   "outputs": [],
   "source": [
    "def index_status(index_name):\n",
    "    print(\"Azure Cognitive Search Index:\", index_name, \"\\n\")\n",
    "\n",
    "    headers = {\"Content-Type\": \"application/json\", \"api-key\": acs_key}\n",
    "    params = {\"api-version\": \"2021-04-30-Preview\"}\n",
    "    index_status = requests.get(\n",
    "        acs_endpoint + \"/indexes/\" + index_name, headers=headers, params=params\n",
    "    )\n",
    "    try:\n",
    "        print(json.dumps((index_status.json()), indent=5))\n",
    "    except:\n",
    "        print(\"Request failed\")"
   ]
  },
  {
   "cell_type": "code",
   "execution_count": 10,
   "metadata": {},
   "outputs": [],
   "source": [
    "blob_service_client = BlobServiceClient.from_connection_string(blob_connection_string)\n",
    "container_client = blob_service_client.get_container_client(container_name)\n",
    "blobs = container_client.list_blobs()"
   ]
  },
  {
   "cell_type": "markdown",
   "metadata": {},
   "source": [
    "## 4. Azure Cognitive Search"
   ]
  },
  {
   "cell_type": "code",
   "execution_count": 11,
   "metadata": {},
   "outputs": [
    {
     "name": "stdout",
     "output_type": "stream",
     "text": [
      "Setting the Azure Cognitive Search client\n",
      "Done\n",
      "<azure.search.documents.indexes._search_index_client.SearchIndexClient object at 0x127385280>\n"
     ]
    }
   ],
   "source": [
    "try:\n",
    "    print(\"Setting the Azure Cognitive Search client\")\n",
    "    search_client = SearchIndexClient(\n",
    "        endpoint=acs_endpoint, credential=AzureKeyCredential(acs_key)\n",
    "    )\n",
    "    print(\"Done\")\n",
    "    print(search_client)\n",
    "\n",
    "except:\n",
    "    print(\"Request failed. Cannot create Azure Cognitive Search client:\", acs_endpoint)"
   ]
  },
  {
   "cell_type": "markdown",
   "metadata": {},
   "source": [
    "### Azure Cognitive Search index status"
   ]
  },
  {
   "cell_type": "code",
   "execution_count": 12,
   "metadata": {},
   "outputs": [
    {
     "name": "stdout",
     "output_type": "stream",
     "text": [
      "Azure Cognitive Search index status for: fashion-demo \n",
      "\n",
      "{\n",
      "  \"@odata.context\": \"https://mono-cognitive-search.search.windows.net/$metadata#Microsoft.Azure.Search.V2021_04_30_Preview.IndexStatistics\",\n",
      "  \"documentCount\": 25879,\n",
      "  \"storageSize\": 394790772\n",
      "}\n"
     ]
    }
   ],
   "source": [
    "index_stats(index_name)"
   ]
  },
  {
   "cell_type": "code",
   "execution_count": 13,
   "metadata": {},
   "outputs": [
    {
     "name": "stdout",
     "output_type": "stream",
     "text": [
      "Azure Cognitive Search Index: fashion-demo \n",
      "\n",
      "{\n",
      "     \"@odata.context\": \"https://mono-cognitive-search.search.windows.net/$metadata#indexes/$entity\",\n",
      "     \"@odata.etag\": \"\\\"0x8DC02877B219591\\\"\",\n",
      "     \"name\": \"fashion-demo\",\n",
      "     \"defaultScoringProfile\": null,\n",
      "     \"fields\": [\n",
      "          {\n",
      "               \"name\": \"idfile\",\n",
      "               \"type\": \"Edm.String\",\n",
      "               \"searchable\": false,\n",
      "               \"filterable\": false,\n",
      "               \"retrievable\": true,\n",
      "               \"sortable\": false,\n",
      "               \"facetable\": false,\n",
      "               \"key\": true,\n",
      "               \"indexAnalyzer\": null,\n",
      "               \"searchAnalyzer\": null,\n",
      "               \"analyzer\": null,\n",
      "               \"normalizer\": null,\n",
      "               \"synonymMaps\": []\n",
      "          },\n",
      "          {\n",
      "               \"name\": \"imagefile\",\n",
      "               \"type\": \"Edm.String\",\n",
      "               \"searchable\": true,\n",
      "               \"filterable\": false,\n",
      "               \"retrievable\": true,\n",
      "               \"sortable\": false,\n",
      "               \"facetable\": false,\n",
      "               \"key\": false,\n",
      "               \"indexAnalyzer\": null,\n",
      "               \"searchAnalyzer\": null,\n",
      "               \"analyzer\": null,\n",
      "               \"normalizer\": null,\n",
      "               \"synonymMaps\": []\n",
      "          },\n",
      "          {\n",
      "               \"name\": \"imagevector\",\n",
      "               \"type\": \"Collection(Edm.Single)\",\n",
      "               \"searchable\": true,\n",
      "               \"filterable\": false,\n",
      "               \"retrievable\": true,\n",
      "               \"sortable\": false,\n",
      "               \"facetable\": false,\n",
      "               \"key\": false,\n",
      "               \"indexAnalyzer\": null,\n",
      "               \"searchAnalyzer\": null,\n",
      "               \"analyzer\": null,\n",
      "               \"normalizer\": null,\n",
      "               \"synonymMaps\": []\n",
      "          }\n",
      "     ],\n",
      "     \"scoringProfiles\": [],\n",
      "     \"corsOptions\": {\n",
      "          \"allowedOrigins\": [\n",
      "               \"*\"\n",
      "          ],\n",
      "          \"maxAgeInSeconds\": 300\n",
      "     },\n",
      "     \"suggesters\": [],\n",
      "     \"analyzers\": [],\n",
      "     \"normalizers\": [],\n",
      "     \"tokenizers\": [],\n",
      "     \"tokenFilters\": [],\n",
      "     \"charFilters\": [],\n",
      "     \"encryptionKey\": null,\n",
      "     \"similarity\": {\n",
      "          \"@odata.type\": \"#Microsoft.Azure.Search.BM25Similarity\",\n",
      "          \"k1\": null,\n",
      "          \"b\": null\n",
      "     },\n",
      "     \"semantic\": {\n",
      "          \"defaultConfiguration\": null,\n",
      "          \"configurations\": [\n",
      "               {\n",
      "                    \"name\": \"my-semantic-config\",\n",
      "                    \"prioritizedFields\": {\n",
      "                         \"titleField\": {\n",
      "                              \"fieldName\": \"idfile\"\n",
      "                         },\n",
      "                         \"prioritizedContentFields\": [],\n",
      "                         \"prioritizedKeywordsFields\": []\n",
      "                    }\n",
      "               }\n",
      "          ]\n",
      "     }\n",
      "}\n"
     ]
    }
   ],
   "source": [
    "index_status(index_name)"
   ]
  },
  {
   "cell_type": "markdown",
   "metadata": {},
   "source": [
    "## 5. Webapp"
   ]
  },
  {
   "cell_type": "code",
   "execution_count": 14,
   "metadata": {},
   "outputs": [],
   "source": [
    "import base64\n",
    "import os\n",
    "\n",
    "def get_image_base64(image_path):\n",
    "    with open(image_path, \"rb\") as image_file:\n",
    "        return base64.b64encode(image_file.read()).decode('utf-8')\n",
    "\n",
    "topn = 20\n",
    "imgsize = 360\n",
    "\n",
    "footnote = \"Powered by Tarık Kaan koç\"\n",
    "\n",
    "logo_path = os.path.join(os.getcwd(), \"assets\", \"workflow.png\")\n",
    "logo_base64 = get_image_base64(logo_path)\n",
    "image = f'<center><img src=\"data:image/png;base64,{logo_base64}\" width=\"512px\"></center>'\n",
    "\n",
    "theme = \"snehilsanyal/scikit-learn\""
   ]
  },
  {
   "cell_type": "code",
   "execution_count": 15,
   "metadata": {},
   "outputs": [],
   "source": [
    "import cv2\n",
    "\n",
    "def image_embedding(imagefile):\n",
    "    session = requests.Session()\n",
    "\n",
    "    version = \"?api-version=\" + api_version + \"&modelVersion=latest\"\n",
    "    vec_img_url = acv_endpoint + \"/computervision/retrieval:vectorizeImage\" + version\n",
    "    headers = {\n",
    "        \"Content-type\": \"application/octet-stream\",\n",
    "        \"Ocp-Apim-Subscription-Key\": acv_key,\n",
    "    }\n",
    "\n",
    "    try:\n",
    "        is_success, buffer = cv2.imencode(\".jpg\", imagefile)\n",
    "        io_buf = io.BytesIO(buffer)\n",
    "        data = io_buf.read()\n",
    "        response = session.post(vec_img_url, data=data, headers=headers)\n",
    "        response.raise_for_status()\n",
    "\n",
    "        image_emb = response.json()[\"vector\"]\n",
    "        return image_emb\n",
    "\n",
    "    except requests.exceptions.RequestException as e:\n",
    "        print(f\"Request Exception: {e}\")\n",
    "    except Exception as ex:\n",
    "        print(f\"Error: {ex}\")\n",
    "\n",
    "    return None\n",
    "\n",
    "\n",
    "def image_search_gradio(imagefile, topn=20):\n",
    "    results_list = []\n",
    "    images_list = []\n",
    "\n",
    "    search_client = SearchClient(acs_endpoint, index_name, AzureKeyCredential(acs_key))\n",
    "\n",
    "    response = search_client.search(\n",
    "        search_text=\"\",\n",
    "        vector=Vector(value=image_embedding(imagefile), k=topn, fields=\"imagevector\"),\n",
    "        select=[\"idfile\", \"imagefile\"],\n",
    "    )\n",
    "\n",
    "    for result in response:\n",
    "        image_file = result[\"imagefile\"]\n",
    "        results_list.append(image_file)\n",
    "\n",
    "    for image_file in results_list:\n",
    "        blob_client = container_client.get_blob_client(image_file)\n",
    "        blob_image = blob_client.download_blob().readall()\n",
    "        img = Image.open(io.BytesIO(blob_image)).resize((imgsize, imgsize))\n",
    "        images_list.append(img)\n",
    "\n",
    "    return images_list\n",
    "\n",
    "def image_search_gradio(imagefile, topn=20):\n",
    "    results_list = []\n",
    "    images_list = []\n",
    "\n",
    "    search_client = SearchClient(acs_endpoint, index_name, AzureKeyCredential(acs_key))\n",
    "\n",
    "    response = search_client.search(\n",
    "        search_text=\"\",\n",
    "        vector=Vector(value=image_embedding(imagefile), k=topn, fields=\"imagevector\"),\n",
    "        select=[\"idfile\", \"imagefile\"],\n",
    "    )\n",
    "\n",
    "    for result in response:\n",
    "        image_file = result[\"imagefile\"]\n",
    "        results_list.append(image_file)\n",
    "\n",
    "    for image_file in results_list:\n",
    "        blob_client = container_client.get_blob_client(image_file)\n",
    "        blob_image = blob_client.download_blob().readall()\n",
    "        img = Image.open(io.BytesIO(blob_image)).resize((imgsize, imgsize))\n",
    "        images_list.append(img)\n",
    "\n",
    "    return images_list\n",
    "\n",
    "\n",
    "topn_list_prompt = [\"\"] * topn\n",
    "\n",
    "list_img_results_image = [\n",
    "    gr.components.Image(label=f\"Top {i+1} : {topn_list_prompt[i]}\", type=\"filepath\")\n",
    "    for i in range(topn)\n",
    "]\n",
    "\n",
    "webapp_image = gr.Interface(\n",
    "    image_search_gradio,\n",
    "    gr.components.Image(),  \n",
    "    list_img_results_image,\n",
    "    theme=theme,\n",
    "    description=image,\n",
    "    article=footnote,\n",
    ")"
   ]
  },
  {
   "cell_type": "markdown",
   "metadata": {},
   "source": [
    "### Combining the two gradio apps into one"
   ]
  },
  {
   "cell_type": "code",
   "execution_count": 16,
   "metadata": {},
   "outputs": [],
   "source": [
    "visual_search_webapp = gr.TabbedInterface(\n",
    "    [webapp_image],\n",
    "    [\n",
    "        \"Bir resim ile ürün ara\"\n",
    "    ],\n",
    "    css=\"body {background-color: black}\",\n",
    "    theme=theme,\n",
    ")"
   ]
  },
  {
   "cell_type": "code",
   "execution_count": 17,
   "metadata": {},
   "outputs": [
    {
     "name": "stdout",
     "output_type": "stream",
     "text": [
      "Running on local URL:  http://127.0.0.1:7860\n",
      "Running on public URL: https://32c7b37452499d001f.gradio.live\n",
      "\n",
      "This share link expires in 72 hours. For free permanent hosting and GPU upgrades, run `gradio deploy` from Terminal to deploy to Spaces (https://huggingface.co/spaces)\n"
     ]
    },
    {
     "data": {
      "text/html": [
       "<div><iframe src=\"https://32c7b37452499d001f.gradio.live\" width=\"100%\" height=\"500\" allow=\"autoplay; camera; microphone; clipboard-read; clipboard-write;\" frameborder=\"0\" allowfullscreen></iframe></div>"
      ],
      "text/plain": [
       "<IPython.core.display.HTML object>"
      ]
     },
     "metadata": {},
     "output_type": "display_data"
    },
    {
     "data": {
      "text/plain": []
     },
     "execution_count": 17,
     "metadata": {},
     "output_type": "execute_result"
    },
    {
     "name": "stderr",
     "output_type": "stream",
     "text": [
      "/Users/koc/Desktop/visual-search-azureAI/venv/lib/python3.9/site-packages/gradio/components/button.py:89: UserWarning: Using the update method is deprecated. Simply return a new object instead, e.g. `return gr.Button(...)` instead of `return gr.Button.update(...)`.\n",
      "  warnings.warn(\n"
     ]
    }
   ],
   "source": [
    "visual_search_webapp.launch(share=True)"
   ]
  },
  {
   "cell_type": "code",
   "execution_count": null,
   "metadata": {},
   "outputs": [],
   "source": []
  }
 ],
 "metadata": {
  "kernelspec": {
   "display_name": "Python 3 (ipykernel)",
   "language": "python",
   "name": "python3"
  },
  "language_info": {
   "codemirror_mode": {
    "name": "ipython",
    "version": 3
   },
   "file_extension": ".py",
   "mimetype": "text/x-python",
   "name": "python",
   "nbconvert_exporter": "python",
   "pygments_lexer": "ipython3",
   "version": "3.9.6"
  }
 },
 "nbformat": 4,
 "nbformat_minor": 2
}

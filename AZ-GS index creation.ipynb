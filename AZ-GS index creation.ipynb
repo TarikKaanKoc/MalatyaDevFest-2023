{
 "cells": [
  {
   "cell_type": "markdown",
   "metadata": {},
   "source": [
    "## 1. Python librairies"
   ]
  },
  {
   "cell_type": "code",
   "execution_count": 2,
   "metadata": {},
   "outputs": [],
   "source": [
    "import datetime\n",
    "import io\n",
    "import json\n",
    "import math\n",
    "import os\n",
    "import requests\n",
    "import sys\n",
    "import time\n",
    "\n",
    "from dotenv import load_dotenv\n",
    "from io import BytesIO\n",
    "from PIL import Image\n",
    "\n",
    "from azure.core.credentials import AzureKeyCredential\n",
    "from azure.search.documents import SearchClient\n",
    "from azure.search.documents.indexes import SearchIndexClient\n",
    "from azure.search.documents.indexes import SearchIndexerClient\n",
    "from azure.search.documents.indexes.models import (\n",
    "    PrioritizedFields,\n",
    "    SearchableField,\n",
    "    SearchField,\n",
    "    SearchFieldDataType,\n",
    "    SearchIndex,\n",
    "    SearchIndexerDataContainer,\n",
    "    SearchIndexerDataSourceConnection,\n",
    "    SemanticConfiguration,\n",
    "    SemanticField,\n",
    "    SemanticSettings,\n",
    "    SimpleField,\n",
    "    VectorSearch,\n",
    "    VectorSearchAlgorithmConfiguration,\n",
    ")\n",
    "from azure.storage.blob import BlobServiceClient"
   ]
  },
  {
   "cell_type": "markdown",
   "metadata": {},
   "source": [
    "## 2. Azure AI Services"
   ]
  },
  {
   "cell_type": "code",
   "execution_count": 4,
   "metadata": {},
   "outputs": [],
   "source": [
    "load_dotenv(\"azure.env\")\n",
    "\n",
    "# Azure Computer Vision 4\n",
    "acv_key = os.getenv(\"acv_key\")\n",
    "acv_endpoint = os.getenv(\"acv_endpoint\")\n",
    "\n",
    "# Azure Cognitive Search\n",
    "acs_endpoint = os.getenv(\"acs_endpoint\")\n",
    "acs_key = os.getenv(\"acs_key\")\n",
    "\n",
    "blob_connection_string = os.getenv(\"blob_connection_string\")\n",
    "container_name = os.getenv(\"container_name\")"
   ]
  },
  {
   "cell_type": "code",
   "execution_count": 5,
   "metadata": {},
   "outputs": [],
   "source": [
    "# Ensure that the azure endpoints should not finished a /\n",
    "if acv_endpoint.endswith(\"/\"):\n",
    "    acv_endpoint = acv_endpoint[:-1]\n",
    "\n",
    "if acs_endpoint.endswith(\"/\"):\n",
    "    acs_endpoint = acv_endpoint[:-1]"
   ]
  },
  {
   "cell_type": "code",
   "execution_count": 6,
   "metadata": {},
   "outputs": [],
   "source": [
    "index_name = \"fashion-demo\"\n",
    "\n",
    "api_version = \"2023-02-01-preview\""
   ]
  },
  {
   "cell_type": "markdown",
   "metadata": {},
   "source": [
    "## 3. Connect to Blob Storage\n"
   ]
  },
  {
   "cell_type": "code",
   "execution_count": 8,
   "metadata": {},
   "outputs": [],
   "source": [
    "blob_service_client = BlobServiceClient.from_connection_string(blob_connection_string)\n",
    "container_client = blob_service_client.get_container_client(container_name)\n",
    "blobs = container_client.list_blobs()\n",
    "\n",
    "first_blob = next(blobs)\n",
    "blob_url = container_client.get_blob_client(first_blob).url"
   ]
  },
  {
   "cell_type": "markdown",
   "metadata": {},
   "source": [
    "## 4. Connect your Blob Storage to a data source in Azure Cognitive Search"
   ]
  },
  {
   "cell_type": "code",
   "execution_count": 10,
   "metadata": {},
   "outputs": [],
   "source": [
    "ds_client = SearchIndexerClient(acs_endpoint, AzureKeyCredential(acs_key))\n",
    "container = SearchIndexerDataContainer(name=container_name)\n",
    "data_source_connection = SearchIndexerDataSourceConnection(\n",
    "    name=f\"{index_name}-blob\",\n",
    "    type=\"azureblob\",\n",
    "    connection_string=blob_connection_string,\n",
    "    container=container,\n",
    ")\n",
    "data_source = ds_client.create_or_update_data_source_connection(data_source_connection)"
   ]
  },
  {
   "cell_type": "markdown",
   "metadata": {},
   "source": [
    "## 5. Our fashion images"
   ]
  },
  {
   "cell_type": "code",
   "execution_count": 11,
   "metadata": {},
   "outputs": [],
   "source": [
    "blob_service_client = BlobServiceClient.from_connection_string(blob_connection_string)\n",
    "container_client = blob_service_client.get_container_client(container_name)\n",
    "number_images = len(list(container_client.list_blobs()))"
   ]
  },
  {
   "cell_type": "code",
   "execution_count": 12,
   "metadata": {},
   "outputs": [],
   "source": [
    "def describe_image(image_file):\n",
    "    options = \"&features=tags,caption\"\n",
    "    model = \"?api-version=\" + api_version + \"&modelVersion=latest\"\n",
    "    url = acv_endpoint + \"/computervision/imageanalysis:analyze\" + model + options\n",
    "\n",
    "    headers_cv = {\n",
    "        \"Content-type\": \"application/octet-stream\",\n",
    "        \"Ocp-Apim-Subscription-Key\": acv_key,\n",
    "    }\n",
    "\n",
    "    blob_client = container_client.get_blob_client(image_file)\n",
    "    blob_image = blob_client.download_blob().readall()\n",
    "\n",
    "    image_stream = io.BytesIO(blob_image)\n",
    "    image = Image.open(image_stream)\n",
    "\n",
    "    image_bytes = io.BytesIO()\n",
    "    image.save(image_bytes, format=\"JPEG\")\n",
    "    image_bytes.seek(0)\n",
    "\n",
    "    response = requests.post(url, data=image_bytes, headers=headers_cv)\n",
    "\n",
    "    if response.status_code == 200:\n",
    "        results = response.json()\n",
    "        print(\"Automatic analysis of the image using Azure Computer Vision 4.0:\")\n",
    "        print(\"\\033[1;31;34m\")\n",
    "        print(\"Main caption:\")\n",
    "        caption = results[\"captionResult\"][\"text\"]\n",
    "        confidence = results[\"captionResult\"][\"confidence\"]\n",
    "        print(f\"{caption} = {confidence:.3f}\")\n",
    "\n",
    "        print(\"\\033[1;31;32m\")\n",
    "        print(\"Detected tags:\")\n",
    "        tags = results[\"tagsResult\"][\"values\"]\n",
    "\n",
    "        for tag in tags:\n",
    "            name = tag[\"name\"]\n",
    "            confidence = tag[\"confidence\"]\n",
    "            print(f\"{name} = {confidence:.3f}\")\n",
    "\n",
    "    else:\n",
    "        print(f\"Error: {response.status_code} - {response.text}\")\n",
    "        return None"
   ]
  },
  {
   "cell_type": "code",
   "execution_count": 13,
   "metadata": {},
   "outputs": [],
   "source": [
    "def view_image(image_file):\n",
    "    blob_client = container_client.get_blob_client(image_file)\n",
    "    blob_image = container_client.get_blob_client(image_file).download_blob().readall()\n",
    "\n",
    "    image_stream = io.BytesIO(blob_image)\n",
    "\n",
    "    print(\"Image:\", image_file)\n",
    "    image = Image.open(image_stream)\n",
    "    image.thumbnail((640, 640), Image.LANCZOS)\n",
    "    display(image)"
   ]
  },
  {
   "cell_type": "markdown",
   "metadata": {},
   "source": [
    "## 6. Azure Computer Vision 4 Florence embeddings functions"
   ]
  },
  {
   "cell_type": "markdown",
   "metadata": {},
   "source": [
    "### Text Embedding"
   ]
  },
  {
   "cell_type": "code",
   "execution_count": 14,
   "metadata": {},
   "outputs": [],
   "source": [
    "def text_embedding(prompt):\n",
    "    version = \"?api-version=\" + api_version + \"&modelVersion=latest\"\n",
    "    vec_txt_url = f\"{acv_endpoint}/computervision/retrieval:vectorizeText{version}\"\n",
    "    headers = {\"Content-type\": \"application/json\", \"Ocp-Apim-Subscription-Key\": acv_key}\n",
    "\n",
    "    payload = {\"text\": prompt}\n",
    "    response = requests.post(vec_txt_url, json=payload, headers=headers)\n",
    "\n",
    "    if response.status_code == 200:\n",
    "        text_emb = response.json().get(\"vector\")\n",
    "        return text_emb\n",
    "\n",
    "    else:\n",
    "        print(f\"Error: {response.status_code} - {response.text}\")\n",
    "        return None"
   ]
  },
  {
   "cell_type": "markdown",
   "metadata": {},
   "source": [
    "### Quick test"
   ]
  },
  {
   "cell_type": "code",
   "execution_count": 15,
   "metadata": {},
   "outputs": [
    {
     "name": "stdout",
     "output_type": "stream",
     "text": [
      "Size of the vector embeddings = 1024\n"
     ]
    }
   ],
   "source": [
    "query = \"Siyah gömlek\"\n",
    "\n",
    "text_emb = text_embedding(query)\n",
    "print(\"Size of the vector embeddings =\", len(text_emb))"
   ]
  },
  {
   "cell_type": "markdown",
   "metadata": {},
   "source": [
    "### Image embedding"
   ]
  },
  {
   "cell_type": "code",
   "execution_count": 16,
   "metadata": {},
   "outputs": [],
   "source": [
    "session = requests.Session()\n",
    "\n",
    "\n",
    "def image_embedding(imagefile):\n",
    "    version = \"?api-version=\" + api_version + \"&modelVersion=latest\"\n",
    "    vec_img_url = acv_endpoint + \"/computervision/retrieval:vectorizeImage\" + version\n",
    "    headers = {\n",
    "        \"Content-type\": \"application/octet-stream\",\n",
    "        \"Ocp-Apim-Subscription-Key\": acv_key,\n",
    "    }\n",
    "\n",
    "    try:\n",
    "        blob_service_client = BlobServiceClient.from_connection_string(\n",
    "            blob_connection_string\n",
    "        )\n",
    "        container_client = blob_service_client.get_container_client(container_name)\n",
    "\n",
    "        blob_client = container_client.get_blob_client(imagefile)\n",
    "        stream = BytesIO()\n",
    "        blob_data = blob_client.download_blob()\n",
    "        blob_data.readinto(stream)\n",
    "\n",
    "        stream.seek(0)  \n",
    "\n",
    "        response = session.post(vec_img_url, data=stream, headers=headers)\n",
    "        response.raise_for_status()  \n",
    "\n",
    "        image_emb = response.json()[\"vector\"]\n",
    "        return image_emb\n",
    "\n",
    "    except requests.exceptions.RequestException as e:\n",
    "        print(f\"Request Exception: {e}\")\n",
    "    except Exception as ex:\n",
    "        print(f\"Error: {ex}\")\n",
    "\n",
    "    return None"
   ]
  },
  {
   "cell_type": "markdown",
   "metadata": {},
   "source": [
    "### Quick test"
   ]
  },
  {
   "cell_type": "code",
   "execution_count": 17,
   "metadata": {},
   "outputs": [
    {
     "name": "stdout",
     "output_type": "stream",
     "text": [
      "Size of the vector embeddings = 1024\n"
     ]
    }
   ],
   "source": [
    "image_file = \"3600530941278.jpg\"\n",
    "\n",
    "image_emb1 = image_embedding(image_file)\n",
    "print(\"Size of the vector embeddings =\", len(image_emb1))"
   ]
  },
  {
   "cell_type": "code",
   "execution_count": 18,
   "metadata": {},
   "outputs": [],
   "source": [
    "def get_cosine_similarity(vector1, vector2):\n",
    "    \"\"\"\n",
    "    Get cosine similarity value between two embedded vectors\n",
    "    \"\"\"\n",
    "    dot_product = sum(x * y for x, y in zip(vector1, vector2))\n",
    "    magnitude1 = math.sqrt(sum(x * x for x in vector1))\n",
    "    magnitude2 = math.sqrt(sum(x * x for x in vector2))\n",
    "    cosine_similarity = dot_product / (magnitude1 * magnitude2)\n",
    "\n",
    "    return cosine_similarity"
   ]
  },
  {
   "cell_type": "code",
   "execution_count": 19,
   "metadata": {},
   "outputs": [],
   "source": [
    "image_file = \"3600531396855.jpg\"\n",
    "image_emb2 = image_embedding(image_file)"
   ]
  },
  {
   "cell_type": "code",
   "execution_count": 20,
   "metadata": {},
   "outputs": [
    {
     "name": "stdout",
     "output_type": "stream",
     "text": [
      "Cosine similarity = 0.5962623697035899\n"
     ]
    }
   ],
   "source": [
    "similarity_score = get_cosine_similarity(image_emb1, image_emb2)\n",
    "print(f\"Cosine similarity = {similarity_score}\")"
   ]
  },
  {
   "cell_type": "markdown",
   "metadata": {},
   "source": [
    "## 7. Generating the vectors embeddings to our catalog images"
   ]
  },
  {
   "cell_type": "code",
   "execution_count": 21,
   "metadata": {},
   "outputs": [],
   "source": [
    "EMBEDDINGS_DIR = \"embeddings\"\n",
    "\n",
    "os.makedirs(EMBEDDINGS_DIR, exist_ok=True)"
   ]
  },
  {
   "cell_type": "code",
   "execution_count": 22,
   "metadata": {},
   "outputs": [],
   "source": [
    "list_of_images = container_client.list_blobs()\n",
    "\n",
    "images_list = []\n",
    "\n",
    "for image in list_of_images:\n",
    "    imagefile = image[\"name\"]\n",
    "    images_list.append(imagefile)"
   ]
  },
  {
   "cell_type": "code",
   "execution_count": 23,
   "metadata": {},
   "outputs": [
    {
     "name": "stdout",
     "output_type": "stream",
     "text": [
      "Number of catalog images = 25880\n"
     ]
    }
   ],
   "source": [
    "print(\"Number of catalog images =\", len(images_list))"
   ]
  },
  {
   "cell_type": "code",
   "execution_count": 26,
   "metadata": {},
   "outputs": [
    {
     "name": "stdout",
     "output_type": "stream",
     "text": [
      "ls: -lh: No such file or directory\n",
      "embeddings/list_of_images.json\n"
     ]
    }
   ],
   "source": [
    "data = [\n",
    "    {\"idfile\": str(i + 1), \"imagefile\": image} for i, image in enumerate(images_list)\n",
    "]\n",
    "\n",
    "with open(os.path.join(EMBEDDINGS_DIR, \"list_of_images.json\"), \"w\") as f:\n",
    "    json.dump(data, f)\n",
    "    \n",
    "!ls $EMBEDDINGS_DIR/list_of_images.json -lh"
   ]
  },
  {
   "cell_type": "markdown",
   "metadata": {},
   "source": [
    "### Running the vectors embeddings for all our catalog images"
   ]
  },
  {
   "cell_type": "code",
   "execution_count": 27,
   "metadata": {},
   "outputs": [
    {
     "name": "stdout",
     "output_type": "stream",
     "text": [
      "Running the image files embeddings...\n",
      "Total number of images to embed = 25880 \n",
      "\n",
      "05-Oct-2023 03:44:51 Number of processed image files = 000001 of 025880 | Done: 0%\n",
      "05-Oct-2023 03:51:23 Number of processed image files = 000501 of 025880 | Done: 2%\n",
      "05-Oct-2023 03:58:11 Number of processed image files = 001001 of 025880 | Done: 4%\n",
      "05-Oct-2023 04:04:41 Number of processed image files = 001501 of 025880 | Done: 6%\n",
      "05-Oct-2023 04:11:12 Number of processed image files = 002001 of 025880 | Done: 8%\n",
      "05-Oct-2023 04:17:51 Number of processed image files = 002501 of 025880 | Done: 10%\n",
      "05-Oct-2023 04:24:25 Number of processed image files = 003001 of 025880 | Done: 12%\n",
      "05-Oct-2023 04:30:53 Number of processed image files = 003501 of 025880 | Done: 14%\n",
      "05-Oct-2023 04:37:15 Number of processed image files = 004001 of 025880 | Done: 15%\n",
      "05-Oct-2023 04:43:30 Number of processed image files = 004501 of 025880 | Done: 17%\n",
      "05-Oct-2023 04:49:49 Number of processed image files = 005001 of 025880 | Done: 19%\n",
      "05-Oct-2023 04:56:02 Number of processed image files = 005501 of 025880 | Done: 21%\n",
      "05-Oct-2023 05:02:25 Number of processed image files = 006001 of 025880 | Done: 23%\n",
      "05-Oct-2023 05:09:08 Number of processed image files = 006501 of 025880 | Done: 25%\n",
      "05-Oct-2023 05:15:30 Number of processed image files = 007001 of 025880 | Done: 27%\n",
      "05-Oct-2023 05:21:57 Number of processed image files = 007501 of 025880 | Done: 29%\n",
      "05-Oct-2023 05:28:29 Number of processed image files = 008001 of 025880 | Done: 31%\n",
      "05-Oct-2023 05:34:52 Number of processed image files = 008501 of 025880 | Done: 33%\n",
      "Request Exception: 400 Client Error: Bad Request for url: https://cv-mono.cognitiveservices.azure.com/computervision/retrieval:vectorizeImage?api-version=2023-02-01-preview&modelVersion=latest\n",
      "05-Oct-2023 05:41:20 Number of processed image files = 009001 of 025880 | Done: 35%\n",
      "05-Oct-2023 05:47:37 Number of processed image files = 009501 of 025880 | Done: 37%\n",
      "05-Oct-2023 05:53:56 Number of processed image files = 010001 of 025880 | Done: 39%\n",
      "05-Oct-2023 06:00:18 Number of processed image files = 010501 of 025880 | Done: 41%\n",
      "05-Oct-2023 06:06:44 Number of processed image files = 011001 of 025880 | Done: 43%\n",
      "05-Oct-2023 06:13:09 Number of processed image files = 011501 of 025880 | Done: 44%\n",
      "05-Oct-2023 06:19:38 Number of processed image files = 012001 of 025880 | Done: 46%\n",
      "05-Oct-2023 06:26:11 Number of processed image files = 012501 of 025880 | Done: 48%\n",
      "05-Oct-2023 06:32:37 Number of processed image files = 013001 of 025880 | Done: 50%\n",
      "05-Oct-2023 06:38:53 Number of processed image files = 013501 of 025880 | Done: 52%\n",
      "05-Oct-2023 06:45:12 Number of processed image files = 014001 of 025880 | Done: 54%\n",
      "05-Oct-2023 06:51:34 Number of processed image files = 014501 of 025880 | Done: 56%\n",
      "05-Oct-2023 06:57:56 Number of processed image files = 015001 of 025880 | Done: 58%\n",
      "05-Oct-2023 07:04:14 Number of processed image files = 015501 of 025880 | Done: 60%\n",
      "05-Oct-2023 07:10:33 Number of processed image files = 016001 of 025880 | Done: 62%\n",
      "05-Oct-2023 07:17:06 Number of processed image files = 016501 of 025880 | Done: 64%\n",
      "05-Oct-2023 07:23:52 Number of processed image files = 017001 of 025880 | Done: 66%\n",
      "05-Oct-2023 07:30:08 Number of processed image files = 017501 of 025880 | Done: 68%\n",
      "05-Oct-2023 07:36:27 Number of processed image files = 018001 of 025880 | Done: 70%\n",
      "05-Oct-2023 07:43:00 Number of processed image files = 018501 of 025880 | Done: 71%\n",
      "05-Oct-2023 07:49:28 Number of processed image files = 019001 of 025880 | Done: 73%\n",
      "05-Oct-2023 07:56:13 Number of processed image files = 019501 of 025880 | Done: 75%\n",
      "05-Oct-2023 08:02:54 Number of processed image files = 020001 of 025880 | Done: 77%\n",
      "05-Oct-2023 08:09:17 Number of processed image files = 020501 of 025880 | Done: 79%\n",
      "05-Oct-2023 08:15:44 Number of processed image files = 021001 of 025880 | Done: 81%\n",
      "05-Oct-2023 08:22:01 Number of processed image files = 021501 of 025880 | Done: 83%\n",
      "05-Oct-2023 08:28:21 Number of processed image files = 022001 of 025880 | Done: 85%\n",
      "05-Oct-2023 08:34:22 Number of processed image files = 022501 of 025880 | Done: 87%\n",
      "05-Oct-2023 08:40:32 Number of processed image files = 023001 of 025880 | Done: 89%\n",
      "05-Oct-2023 08:46:51 Number of processed image files = 023501 of 025880 | Done: 91%\n",
      "05-Oct-2023 08:53:09 Number of processed image files = 024001 of 025880 | Done: 93%\n",
      "05-Oct-2023 08:59:40 Number of processed image files = 024501 of 025880 | Done: 95%\n",
      "05-Oct-2023 09:06:07 Number of processed image files = 025001 of 025880 | Done: 97%\n",
      "05-Oct-2023 09:12:37 Number of processed image files = 025501 of 025880 | Done: 99%\n",
      "\n",
      "Done\n",
      "\n",
      "Elapsed time: 05:32:38.469001\n",
      "Time per image = 0.77119 seconds\n"
     ]
    }
   ],
   "source": [
    "batch_size = 500\n",
    "\n",
    "start = time.time()\n",
    "print(\"Running the image files embeddings...\")\n",
    "print(\"Total number of images to embed =\", len(images_list), \"\\n\")\n",
    "\n",
    "with open(\n",
    "    os.path.join(EMBEDDINGS_DIR, \"list_of_images.json\"), \"r\", encoding=\"utf-8\"\n",
    ") as file:\n",
    "    input_data = json.load(file)\n",
    "\n",
    "image_count = len(input_data)\n",
    "processed_count = 0\n",
    "\n",
    "for batch_start in range(0, image_count, batch_size):\n",
    "    batch_end = min(batch_start + batch_size, image_count)\n",
    "    batch_data = input_data[batch_start:batch_end]\n",
    "\n",
    "    for idx, item in enumerate(batch_data, start=batch_start + 1):\n",
    "        imgindex = item[\"idfile\"]\n",
    "        imgfile = item[\"imagefile\"]\n",
    "        item[\"imagevector\"] = image_embedding(imgfile)\n",
    "\n",
    "        if idx % batch_size == 1:\n",
    "            pctdone = round(idx / image_count * 100)\n",
    "            dt = datetime.datetime.today().strftime(\"%d-%b-%Y %H:%M:%S\")\n",
    "            print(\n",
    "                dt,\n",
    "                f\"Number of processed image files = {idx:06} of {image_count:06} | Done: {pctdone}%\",\n",
    "            )\n",
    "\n",
    "    processed_count += len(batch_data)\n",
    "\n",
    "elapsed = time.time() - start\n",
    "print(\"\\nDone\")\n",
    "print(\n",
    "    \"\\nElapsed time: \"\n",
    "    + time.strftime(\n",
    "        \"%H:%M:%S.{}\".format(str(elapsed % 1)[2:])[:15], time.gmtime(elapsed)\n",
    "    )\n",
    ")\n",
    "print(\"Time per image =\", round(elapsed / processed_count, 5), \"seconds\")"
   ]
  },
  {
   "cell_type": "code",
   "execution_count": 28,
   "metadata": {},
   "outputs": [
    {
     "name": "stdout",
     "output_type": "stream",
     "text": [
      "Saving the results into a json file...\n",
      "Done. Elapsed time: 29.39 secs\n"
     ]
    }
   ],
   "source": [
    "start = time.time()\n",
    "\n",
    "print(\"Saving the results into a json file...\")\n",
    "with open(os.path.join(EMBEDDINGS_DIR, \"documents.json\"), \"w\") as f:\n",
    "    json.dump(input_data, f)\n",
    "\n",
    "print(\"Done. Elapsed time:\", round(time.time() - start, 2), \"secs\")"
   ]
  },
  {
   "cell_type": "code",
   "execution_count": 29,
   "metadata": {},
   "outputs": [
    {
     "name": "stdout",
     "output_type": "stream",
     "text": [
      "ls: -lh: No such file or directory\n",
      "embeddings/documents.json\n"
     ]
    }
   ],
   "source": [
    "!ls $EMBEDDINGS_DIR/documents.json -lh"
   ]
  },
  {
   "cell_type": "markdown",
   "metadata": {},
   "source": [
    "## 8. Creating the Azure Cognitive Search index and uploading the embeddings"
   ]
  },
  {
   "cell_type": "code",
   "execution_count": 30,
   "metadata": {},
   "outputs": [
    {
     "name": "stdout",
     "output_type": "stream",
     "text": [
      "Setting the Azure Cognitive Search client\n",
      "Done\n",
      "<azure.search.documents.indexes._search_index_client.SearchIndexClient object at 0x11b1ad850>\n"
     ]
    }
   ],
   "source": [
    "try:\n",
    "    print(\"Setting the Azure Cognitive Search client\")\n",
    "    search_client = SearchIndexClient(\n",
    "        endpoint=acs_endpoint, credential=AzureKeyCredential(acs_key)\n",
    "    )\n",
    "    print(\"Done\")\n",
    "    print(search_client)\n",
    "\n",
    "except:\n",
    "    print(\"Request failed. Cannot create Azure Cognitive Search client:\",\n",
    "          acs_endpoint)"
   ]
  },
  {
   "cell_type": "code",
   "execution_count": 31,
   "metadata": {},
   "outputs": [],
   "source": [
    "def delete_index(index_name):\n",
    "    \"\"\"\n",
    "    Deleting an Azure Cognitive Search index\n",
    "    \"\"\"\n",
    "    start = time.time()\n",
    "    search_client = SearchIndexClient(\n",
    "        endpoint=acs_endpoint, credential=AzureKeyCredential(acs_key)\n",
    "    )\n",
    "    print(\"Deleting the Azure Cognitive Search index:\", index_name)\n",
    "    search_client.delete_index(index_name)\n",
    "    print(\"Done. Elapsed time:\", round(time.time() - start, 2), \"secs\")"
   ]
  },
  {
   "cell_type": "code",
   "execution_count": 32,
   "metadata": {},
   "outputs": [
    {
     "name": "stdout",
     "output_type": "stream",
     "text": [
      "Deleting the Azure Cognitive Search index: fashion-demo\n",
      "Done. Elapsed time: 0.66 secs\n"
     ]
    }
   ],
   "source": [
    "delete_index(index_name)"
   ]
  },
  {
   "cell_type": "code",
   "execution_count": 33,
   "metadata": {},
   "outputs": [
    {
     "name": "stdout",
     "output_type": "stream",
     "text": [
      "Done. Search index fashion-demo has been created.\n",
      "Elapsed time: 1.44 secs\n"
     ]
    }
   ],
   "source": [
    "start = time.time()\n",
    "\n",
    "# Fields definition\n",
    "fields = [\n",
    "    # Image ID\n",
    "    SimpleField(name=\"idfile\",\n",
    "                type=SearchFieldDataType.String,\n",
    "                key=True),\n",
    "    # Image filename\n",
    "    SearchableField(\n",
    "        name=\"imagefile\",\n",
    "        type=SearchFieldDataType.String,\n",
    "        searchable=True,\n",
    "        retrievable=True,\n",
    "    ),\n",
    "    # Vector image embeddings\n",
    "    SearchField(\n",
    "        name=\"imagevector\",\n",
    "        type=SearchFieldDataType.Collection(SearchFieldDataType.Single),\n",
    "        searchable=True,\n",
    "        dimensions=1024,  # Dimension of the Azure CV Florence vector embeddings\n",
    "        vector_search_configuration=\"myconfig\",\n",
    "    ),\n",
    "]\n",
    "\n",
    "\n",
    "# Vector Search definition\n",
    "vector_search = VectorSearch(\n",
    "    algorithm_configurations=[\n",
    "        VectorSearchAlgorithmConfiguration(\n",
    "            name=\"myconfig\",\n",
    "            kind=\"hnsw\",  # hnsw = Hierarchical Navigable Small Worlds\n",
    "            hnsw_parameters={\n",
    "                \"m\": 4,\n",
    "                \"efConstruction\": 400,\n",
    "                \"efSearch\": 1000,\n",
    "                \"metric\": \"cosine\",  # Cosine similarity metric\n",
    "            },\n",
    "        )\n",
    "    ]\n",
    ")\n",
    "\n",
    "# Semantic config\n",
    "semantic_config = SemanticConfiguration(\n",
    "    name=\"my-semantic-config\",\n",
    "    prioritized_fields=PrioritizedFields(\n",
    "        title_field=SemanticField(field_name=\"idfile\"),\n",
    "    ),\n",
    ")\n",
    "\n",
    "# Create the semantic settings with the configuration\n",
    "semantic_settings = SemanticSettings(configurations=[semantic_config])\n",
    "\n",
    "# Create the search index with the semantic settings\n",
    "index = SearchIndex(\n",
    "    name=index_name,\n",
    "    fields=fields,\n",
    "    vector_search=vector_search,\n",
    "    semantic_settings=semantic_settings,\n",
    ")\n",
    "\n",
    "# Let's process\n",
    "response = search_client.create_or_update_index(index)\n",
    "\n",
    "print(f\"Done. Search index {response.name} has been created.\")\n",
    "print(\"Elapsed time:\", round(time.time() - start, 2), \"secs\")"
   ]
  },
  {
   "cell_type": "code",
   "execution_count": 34,
   "metadata": {},
   "outputs": [
    {
     "name": "stdout",
     "output_type": "stream",
     "text": [
      "Size of the documents to load = 25880\n"
     ]
    }
   ],
   "source": [
    "with open(os.path.join(EMBEDDINGS_DIR, \"documents.json\"), \"r\") as file:\n",
    "    documents = json.load(file)\n",
    "\n",
    "print(\"Size of the documents to load =\", len(documents))"
   ]
  },
  {
   "cell_type": "code",
   "execution_count": 35,
   "metadata": {},
   "outputs": [],
   "source": [
    "def loading_documents(documents):\n",
    "    \"\"\"\n",
    "    Loading documents into the Azure Cognitive Search index\n",
    "    \"\"\"\n",
    "    # Upload some documents to the index\n",
    "    print(\"Uploading the documents into the index\", index_name, \"...\")\n",
    "\n",
    "    # Setting the Azure Cognitive Search client\n",
    "    search_client = SearchClient(\n",
    "        endpoint=acs_endpoint,\n",
    "        index_name=index_name,\n",
    "        credential=AzureKeyCredential(acs_key),\n",
    "    )\n",
    "    response = search_client.upload_documents(documents)\n",
    "    print(\n",
    "        f\"\\nDone. Uploaded {len(documents)} documents into the Azure Cognitive Search index.\\n\"\n",
    "    )\n",
    "    return len(documents)"
   ]
  },
  {
   "cell_type": "code",
   "execution_count": 36,
   "metadata": {},
   "outputs": [
    {
     "name": "stdout",
     "output_type": "stream",
     "text": [
      "1 Loading the embeddings from 0 to 1000\n",
      "Uploading the documents into the index fashion-demo ...\n",
      "\n",
      "Done. Uploaded 1000 documents into the Azure Cognitive Search index.\n",
      "\n",
      "2 Loading the embeddings from 1000 to 2000\n",
      "Uploading the documents into the index fashion-demo ...\n",
      "\n",
      "Done. Uploaded 1000 documents into the Azure Cognitive Search index.\n",
      "\n",
      "3 Loading the embeddings from 2000 to 3000\n",
      "Uploading the documents into the index fashion-demo ...\n",
      "\n",
      "Done. Uploaded 1000 documents into the Azure Cognitive Search index.\n",
      "\n",
      "4 Loading the embeddings from 3000 to 4000\n",
      "Uploading the documents into the index fashion-demo ...\n",
      "\n",
      "Done. Uploaded 1000 documents into the Azure Cognitive Search index.\n",
      "\n",
      "5 Loading the embeddings from 4000 to 5000\n",
      "Uploading the documents into the index fashion-demo ...\n",
      "\n",
      "Done. Uploaded 1000 documents into the Azure Cognitive Search index.\n",
      "\n",
      "6 Loading the embeddings from 5000 to 6000\n",
      "Uploading the documents into the index fashion-demo ...\n",
      "\n",
      "Done. Uploaded 1000 documents into the Azure Cognitive Search index.\n",
      "\n",
      "7 Loading the embeddings from 6000 to 7000\n",
      "Uploading the documents into the index fashion-demo ...\n",
      "\n",
      "Done. Uploaded 1000 documents into the Azure Cognitive Search index.\n",
      "\n",
      "8 Loading the embeddings from 7000 to 8000\n",
      "Uploading the documents into the index fashion-demo ...\n",
      "\n",
      "Done. Uploaded 1000 documents into the Azure Cognitive Search index.\n",
      "\n",
      "9 Loading the embeddings from 8000 to 9000\n",
      "Uploading the documents into the index fashion-demo ...\n",
      "\n",
      "Done. Uploaded 1000 documents into the Azure Cognitive Search index.\n",
      "\n",
      "10 Loading the embeddings from 9000 to 10000\n",
      "Uploading the documents into the index fashion-demo ...\n",
      "\n",
      "Done. Uploaded 1000 documents into the Azure Cognitive Search index.\n",
      "\n",
      "11 Loading the embeddings from 10000 to 11000\n",
      "Uploading the documents into the index fashion-demo ...\n",
      "\n",
      "Done. Uploaded 1000 documents into the Azure Cognitive Search index.\n",
      "\n",
      "12 Loading the embeddings from 11000 to 12000\n",
      "Uploading the documents into the index fashion-demo ...\n",
      "\n",
      "Done. Uploaded 1000 documents into the Azure Cognitive Search index.\n",
      "\n",
      "13 Loading the embeddings from 12000 to 13000\n",
      "Uploading the documents into the index fashion-demo ...\n",
      "\n",
      "Done. Uploaded 1000 documents into the Azure Cognitive Search index.\n",
      "\n",
      "14 Loading the embeddings from 13000 to 14000\n",
      "Uploading the documents into the index fashion-demo ...\n",
      "\n",
      "Done. Uploaded 1000 documents into the Azure Cognitive Search index.\n",
      "\n",
      "15 Loading the embeddings from 14000 to 15000\n",
      "Uploading the documents into the index fashion-demo ...\n",
      "\n",
      "Done. Uploaded 1000 documents into the Azure Cognitive Search index.\n",
      "\n",
      "16 Loading the embeddings from 15000 to 16000\n",
      "Uploading the documents into the index fashion-demo ...\n",
      "\n",
      "Done. Uploaded 1000 documents into the Azure Cognitive Search index.\n",
      "\n",
      "17 Loading the embeddings from 16000 to 17000\n",
      "Uploading the documents into the index fashion-demo ...\n",
      "\n",
      "Done. Uploaded 1000 documents into the Azure Cognitive Search index.\n",
      "\n",
      "18 Loading the embeddings from 17000 to 18000\n",
      "Uploading the documents into the index fashion-demo ...\n",
      "\n",
      "Done. Uploaded 1000 documents into the Azure Cognitive Search index.\n",
      "\n",
      "19 Loading the embeddings from 18000 to 19000\n",
      "Uploading the documents into the index fashion-demo ...\n",
      "\n",
      "Done. Uploaded 1000 documents into the Azure Cognitive Search index.\n",
      "\n",
      "20 Loading the embeddings from 19000 to 20000\n",
      "Uploading the documents into the index fashion-demo ...\n",
      "\n",
      "Done. Uploaded 1000 documents into the Azure Cognitive Search index.\n",
      "\n",
      "21 Loading the embeddings from 20000 to 21000\n",
      "Uploading the documents into the index fashion-demo ...\n",
      "\n",
      "Done. Uploaded 1000 documents into the Azure Cognitive Search index.\n",
      "\n",
      "22 Loading the embeddings from 21000 to 22000\n",
      "Uploading the documents into the index fashion-demo ...\n",
      "\n",
      "Done. Uploaded 1000 documents into the Azure Cognitive Search index.\n",
      "\n",
      "23 Loading the embeddings from 22000 to 23000\n",
      "Uploading the documents into the index fashion-demo ...\n",
      "\n",
      "Done. Uploaded 1000 documents into the Azure Cognitive Search index.\n",
      "\n",
      "24 Loading the embeddings from 23000 to 24000\n",
      "Uploading the documents into the index fashion-demo ...\n",
      "\n",
      "Done. Uploaded 1000 documents into the Azure Cognitive Search index.\n",
      "\n",
      "25 Loading the embeddings from 24000 to 25000\n",
      "Uploading the documents into the index fashion-demo ...\n",
      "\n",
      "Done. Uploaded 1000 documents into the Azure Cognitive Search index.\n",
      "\n",
      "26 Loading the embeddings from 25000 to 26000\n",
      "Uploading the documents into the index fashion-demo ...\n",
      "\n",
      "Done. Uploaded 879 documents into the Azure Cognitive Search index.\n",
      "\n",
      "Total number of loaded documents = 25879\n",
      "Elapsed time: 246.78 secs\n"
     ]
    }
   ],
   "source": [
    "documents = [doc for doc in documents if doc.get('imagevector') is not None]\n",
    "\n",
    "start = time.time()\n",
    "\n",
    "idx = 0\n",
    "total_nb = 0\n",
    "step = 1\n",
    "chunk_size = 1000\n",
    "\n",
    "while idx < len(documents):\n",
    "    begin = idx\n",
    "    end = begin + chunk_size\n",
    "    print(step, \"Loading the embeddings from\", begin, \"to\", end)\n",
    "    # Loading the chunck\n",
    "    chunk_docs = documents[begin:end]\n",
    "    total_nb += loading_documents(chunk_docs)\n",
    "    idx += chunk_size\n",
    "    step += 1\n",
    "\n",
    "print(\"Total number of loaded documents =\", total_nb)\n",
    "print(\"Elapsed time:\", round(time.time() - start, 2), \"secs\")\n"
   ]
  },
  {
   "cell_type": "markdown",
   "metadata": {},
   "source": [
    "### Azure Cognitive Search index status"
   ]
  },
  {
   "cell_type": "code",
   "execution_count": 37,
   "metadata": {},
   "outputs": [],
   "source": [
    "def index_stats(index_name):\n",
    "    \"\"\"\n",
    "    Get statistics about Azure Cognitive Search index\n",
    "    \"\"\"  \n",
    "    url = acs_endpoint + \"/indexes/\" + index_name + \"/stats?api-version=2021-04-30-Preview\"\n",
    "    headers = {\n",
    "        \"Content-Type\": \"application/json\",\n",
    "        \"api-key\": acs_key,\n",
    "    }\n",
    "    response = requests.get(url, headers=headers)\n",
    "    print(\"Azure Cognitive Search index status for:\", index_name, \"\\n\")\n",
    "\n",
    "    if response.status_code == 200:\n",
    "        res = response.json()\n",
    "        print(json.dumps(res, indent=2))\n",
    "        document_count = res['documentCount']\n",
    "        storage_size = res['storageSize']\n",
    "\n",
    "    else:\n",
    "        print(\"Request failed with status code:\", response.status_code)\n",
    "    \n",
    "    return document_count, storage_size"
   ]
  },
  {
   "cell_type": "code",
   "execution_count": 38,
   "metadata": {},
   "outputs": [
    {
     "name": "stdout",
     "output_type": "stream",
     "text": [
      "Azure Cognitive Search index status for: fashion-demo \n",
      "\n",
      "{\n",
      "  \"@odata.context\": \"https://mono-cognitive-search.search.windows.net/$metadata#Microsoft.Azure.Search.V2021_04_30_Preview.IndexStatistics\",\n",
      "  \"documentCount\": 14000,\n",
      "  \"storageSize\": 213601740\n",
      "}\n"
     ]
    }
   ],
   "source": [
    "document_count, storage_size = index_stats(index_name)"
   ]
  },
  {
   "cell_type": "markdown",
   "metadata": {},
   "source": [
    "> We have loaded the **10226 vectors embeddings into the Azure Cognitive Search index**"
   ]
  },
  {
   "cell_type": "code",
   "execution_count": 40,
   "metadata": {},
   "outputs": [],
   "source": [
    "def index_status(index_name):\n",
    "    \"\"\"\n",
    "    Azure Cognitive Search index status\n",
    "    \"\"\"\n",
    "    print(\"Azure Cognitive Search Index:\", index_name, \"\\n\")\n",
    "\n",
    "    headers = {\"Content-Type\": \"application/json\",\n",
    "               \"api-key\": acs_key}\n",
    "    params = {\"api-version\": \"2021-04-30-Preview\"}\n",
    "    index_status = requests.get(\n",
    "        acs_endpoint + \"/indexes/\" + index_name, headers=headers, params=params\n",
    "    )\n",
    "    try:\n",
    "        print(json.dumps((index_status.json()), indent=5))\n",
    "    except:\n",
    "        print(\"Request failed\")"
   ]
  },
  {
   "cell_type": "code",
   "execution_count": 41,
   "metadata": {},
   "outputs": [
    {
     "name": "stdout",
     "output_type": "stream",
     "text": [
      "Azure Cognitive Search Index: fashion-demo \n",
      "\n",
      "{\n",
      "     \"@odata.context\": \"https://mono-cognitive-search.search.windows.net/$metadata#indexes/$entity\",\n",
      "     \"@odata.etag\": \"\\\"0x8DBC56AE6B780AA\\\"\",\n",
      "     \"name\": \"fashion-demo\",\n",
      "     \"defaultScoringProfile\": null,\n",
      "     \"fields\": [\n",
      "          {\n",
      "               \"name\": \"idfile\",\n",
      "               \"type\": \"Edm.String\",\n",
      "               \"searchable\": false,\n",
      "               \"filterable\": false,\n",
      "               \"retrievable\": true,\n",
      "               \"sortable\": false,\n",
      "               \"facetable\": false,\n",
      "               \"key\": true,\n",
      "               \"indexAnalyzer\": null,\n",
      "               \"searchAnalyzer\": null,\n",
      "               \"analyzer\": null,\n",
      "               \"normalizer\": null,\n",
      "               \"synonymMaps\": []\n",
      "          },\n",
      "          {\n",
      "               \"name\": \"imagefile\",\n",
      "               \"type\": \"Edm.String\",\n",
      "               \"searchable\": true,\n",
      "               \"filterable\": false,\n",
      "               \"retrievable\": true,\n",
      "               \"sortable\": false,\n",
      "               \"facetable\": false,\n",
      "               \"key\": false,\n",
      "               \"indexAnalyzer\": null,\n",
      "               \"searchAnalyzer\": null,\n",
      "               \"analyzer\": null,\n",
      "               \"normalizer\": null,\n",
      "               \"synonymMaps\": []\n",
      "          },\n",
      "          {\n",
      "               \"name\": \"imagevector\",\n",
      "               \"type\": \"Collection(Edm.Single)\",\n",
      "               \"searchable\": true,\n",
      "               \"filterable\": false,\n",
      "               \"retrievable\": true,\n",
      "               \"sortable\": false,\n",
      "               \"facetable\": false,\n",
      "               \"key\": false,\n",
      "               \"indexAnalyzer\": null,\n",
      "               \"searchAnalyzer\": null,\n",
      "               \"analyzer\": null,\n",
      "               \"normalizer\": null,\n",
      "               \"synonymMaps\": []\n",
      "          }\n",
      "     ],\n",
      "     \"scoringProfiles\": [],\n",
      "     \"corsOptions\": null,\n",
      "     \"suggesters\": [],\n",
      "     \"analyzers\": [],\n",
      "     \"normalizers\": [],\n",
      "     \"tokenizers\": [],\n",
      "     \"tokenFilters\": [],\n",
      "     \"charFilters\": [],\n",
      "     \"encryptionKey\": null,\n",
      "     \"similarity\": {\n",
      "          \"@odata.type\": \"#Microsoft.Azure.Search.BM25Similarity\",\n",
      "          \"k1\": null,\n",
      "          \"b\": null\n",
      "     },\n",
      "     \"semantic\": {\n",
      "          \"defaultConfiguration\": null,\n",
      "          \"configurations\": [\n",
      "               {\n",
      "                    \"name\": \"my-semantic-config\",\n",
      "                    \"prioritizedFields\": {\n",
      "                         \"titleField\": {\n",
      "                              \"fieldName\": \"idfile\"\n",
      "                         },\n",
      "                         \"prioritizedContentFields\": [],\n",
      "                         \"prioritizedKeywordsFields\": []\n",
      "                    }\n",
      "               }\n",
      "          ]\n",
      "     }\n",
      "}\n"
     ]
    }
   ],
   "source": [
    "index_status(index_name)"
   ]
  },
  {
   "cell_type": "markdown",
   "metadata": {},
   "source": [
    "### Quick test on a basic text search"
   ]
  },
  {
   "cell_type": "code",
   "execution_count": 42,
   "metadata": {},
   "outputs": [],
   "source": [
    "search_client = SearchClient(acs_endpoint,\n",
    "                             index_name,\n",
    "                             AzureKeyCredential(acs_key))"
   ]
  },
  {
   "cell_type": "code",
   "execution_count": 43,
   "metadata": {},
   "outputs": [
    {
     "name": "stdout",
     "output_type": "stream",
     "text": [
      "Let's query the index with text = 8683522157586 \n",
      "\n",
      "Id file: 7066\n",
      "\n",
      "Filename: 8683522157586.jpg\n",
      "\n",
      "Vector embedding size: 1024\n",
      "\n",
      "Vector embedding: [-1.08984375, 0.2915039, 2.57421875, -1.12011719, 1.73339844, 0.818847656, 0.5517578, -2.2578125, -3.91992188, 2.51171875, -2.3046875, -1.27050781, 0.5698242, -0.3947754, -0.881347656, -0.292480469, 1.88183594, 0.08831787, -3.2421875, -1.58007813, -2.79296875, 1.72070313, 1.54785156, -3.421875, -1.2890625, -1.89355469, 1.38085938, 0.5136719, -0.5209961, 2.06835938, 0.0276489258, -2.45507813, 1.4453125, -3.2421875, 4.2265625, -1.50878906, -0.263427734, -1.33007813, 0.2019043, -1.46191406, 1.69140625, 0.0871582, 1.37695313, 3.60351563, 6.19140625, -0.227539063, -0.698730469, -4.28515625, -2.37890625, 0.8208008, 0.344482422, 0.392578125, 2.05078125, 0.6977539, -3.77929688, -0.7705078, 1.93164063, 2.51953125, -3.10742188, 1.1953125, 1.04492188, -4.85546875, -1.5390625, -1.08007813, -1.28125, -1.39550781, 4.3671875, -0.282226563, 0.4765625, 3.1875, -3.61523438, -6.1171875, 2.81445313, -1.32128906, -1.65625, -1.05175781, -0.225097656, 0.484863281, 0.0433959961, -4.80078125, 1.3671875, 0.706542969, -2.13671875, -1.69433594, 0.303955078, 2.14648438, -1.70410156, 1.03222656, -1.72363281, -4.7890625, 2.00195313, 3.11523438, -1.23046875, -1.09667969, -4.125, -1.97753906, -4.23828125, -0.148681641, -1.99316406, -6.921875, 3.6484375, -0.3005371, -0.346435547, -0.7553711, -5.3515625, 0.3959961, -1.6796875, -3.18554688, 0.9472656, -0.899414063, -0.420898438, 0.9633789, -1.82714844, -1.6484375, 2.40820313, -0.120422363, -0.09375, -4.37109375, -0.5629883, -2.41210938, 0.130859375, 3.94921875, 0.453613281, -1.12695313, -0.439208984, 0.2685547, -2.4296875, -2.23046875, 1.83886719, 4.7578125, -3.62695313, 0.2277832, -0.8911133, -3.24804688, 1.015625, -0.328857422, 0.0426330566, -0.9370117, 3.42382813, 0.860351563, -3.36523438, 2.44921875, -0.6870117, -3.25, 2.4140625, 0.326171875, -2.14648438, 2.56054688, -0.75, -2.06445313, -0.03817749, -2.84570313, 1.1953125, 0.3017578, 0.0642089844, 2.83203125, 3.9296875, 1.8671875, 4.046875, 3.68554688, -1.5859375, -1.23046875, 0.688964844, -0.889648438, 3.27539063, -0.8569336, -0.350097656, -1.79882813, -2.61523438, -1.51660156, -2.6796875, 1.40332031, -0.69921875, 1.89453125, 3.00585938, 0.07165527, -4.71875, -0.7836914, 1.47558594, 2.14257813, 2.40039063, 0.8129883, -5.9453125, -0.7050781, 0.32421875, -2.93164063, -0.414306641, -1.47363281, 1.41210938, 0.0619812, -3.02148438, -1.96484375, -4.23046875, -1.20019531, -2.28320313, -0.281494141, -1.19726563, 1.79492188, 2.1640625, 0.735351563, -0.602539063, -0.66015625, 0.169921875, 4.07421875, 4.00390625, -3.93359375, 4.0078125, -3.07617188, 2.52539063, -2.91210938, -1.33398438, -0.1541748, 0.5546875, 2.16601563, 4.9296875, -1.80957031, 0.7104492, -4.16796875, -4.1875, -0.4951172, -2.2890625, 2.03125, 0.494140625, -2.43359375, 1.9296875, 3.45507813, -0.5708008, -0.5283203, 1.08007813, -0.589355469, 1.61523438, -4.875, 0.300048828, 3.19921875, 0.0426635742, 1.05175781, 0.793457031, 0.388916016, 0.899414063, 0.122924805, -3.23046875, 0.706542969, 0.361572266, 2.578125, 1.72753906, -10.8203125, 0.595214844, -1.59667969, -0.7626953, 2.8515625, -0.499023438, -2.14257813, -0.975585938, 0.22265625, -2.52539063, 3.69140625, 0.178588867, 4.15625, -2.12890625, 2.10546875, -1.72949219, -1.2578125, 0.314697266, -0.9086914, 2.421875, -1.77246094, -1.49121094, 1.11914063, 1.19824219, 0.08190918, -1.20898438, 1.77832031, 1.05078125, 1.70605469, -0.76953125, -0.702148438, 0.6459961, 6.38671875, -0.8378906, 0.19140625, 2.78125, -2.90234375, 2.65820313, 0.584472656, -3.14648438, 0.5234375, 0.6220703, 1.77148438, 0.4724121, -0.202026367, -0.8413086, 5.9453125, 0.190673828, 2.6796875, 0.263427734, -2.98828125, -2.33789063, -1.99316406, -0.4621582, 0.7036133, -0.55078125, 0.1550293, -3.76757813, -0.3149414, 0.2166748, -0.6381836, 2.046875, 1.42578125, -4.39453125, 0.127685547, 1.52636719, -1.36230469, 1.06835938, 1.2109375, 3.75976563, -0.322998047, 1.62402344, 5.51171875, -4.5, 1.12695313, 3.3984375, 2.1796875, 0.8461914, -2.2578125, 1.79199219, 0.1665039, -2.02929688, 1.50878906, 0.320800781, 12.3359375, 0.3671875, -1.71191406, 3.19335938, -5.76171875, -0.139648438, -2.54492188, 0.235961914, 0.343017578, -0.764648438, -4.76953125, -1.48730469, 0.6123047, -2.57617188, -0.920898438, -1.29980469, -3.171875, -1.33691406, 1.28320313, -0.652832031, 2.390625, 1.84570313, -2.57226563, -0.491699219, -1.83007813, 1.75195313, -3.44335938, -0.3942871, 1.671875, 1.35058594, -1.15722656, 1.83886719, 2.55078125, 0.7324219, -2.69140625, 0.675292969, 5.3203125, -0.128173828, 0.3449707, -0.0144500732, 0.3100586, 5.40234375, 1.66894531, 1.58007813, -1.89746094, 4.6328125, 1.25585938, 0.639648438, 2.73632813, -4.7578125, 3.05078125, -3.01171875, 1.69238281, 0.170898438, -1.74707031, 2.08789063, -0.03744507, -5.44140625, -3.41210938, 3.20703125, 0.247070313, -0.76171875, 1.0234375, 3.90234375, 0.7919922, -0.461669922, -2.02929688, -1.15527344, -1.73339844, -2.22851563, 1.40527344, -0.988769531, -2.40039063, 1.54492188, 0.267822266, -1.40722656, 1.17578125, 3.70898438, 3.03710938, 3.58984375, -1.36523438, 2.00976563, 1.484375, 2.0625, 1.33496094, -0.540039063, 0.662597656, -15.609375, 2.54492188, 2.89257813, -1.03710938, -0.8911133, 0.7661133, -3.45507813, -0.9194336, -3.11132813, -25.734375, 2.48046875, -2.56835938, -2.24023438, -0.881347656, -1.50292969, 1.90332031, -0.693847656, 4.265625, -2.74023438, -1.03222656, -3.23632813, -2.35546875, 1.86523438, -0.106384277, 2.53515625, -0.6352539, 3.16796875, -0.9863281, 3.34765625, -0.173461914, -0.771972656, 0.579101563, -0.3972168, 3.24804688, -0.006919861, 4.921875, -2.47070313, 0.142333984, 2.921875, -1.14746094, 1.02734375, -0.7402344, 2.9921875, 1.61816406, -1.89257813, -0.829589844, -4.78125, 6.6875, -0.124816895, 0.6689453, -5.21875, -1.58886719, -2.53125, 0.649902344, -1.68847656, 2.95117188, 1.14257813, 3.23046875, 1.85742188, 2.78125, -2.75195313, -4.87890625, -3.18164063, 1.09179688, 4.48828125, -3.06640625, 0.941894531, 1.26269531, -2.52539063, -1.21972656, 1.45605469, -0.6821289, 0.9345703, -2.09570313, -0.0559997559, -1.09863281, -3.03125, -2.50976563, 1.42089844, 1.60351563, 0.146850586, 0.6928711, 0.352294922, 3.13476563, 0.7060547, -3.35351563, 0.7807617, 0.524902344, -3.44140625, 4.64453125, -2.26953125, -0.4584961, -3.28125, -0.376708984, -0.821777344, -2.2890625, 2.91210938, -1.328125, 1.45800781, -3.203125, 0.388427734, 1.18652344, -1.45214844, 0.745605469, 1.07714844, -0.8408203, -3.2421875, -1.70214844, 0.7211914, -3.54882813, 3.08203125, 1.69921875, -2.77734375, -0.324951172, 0.540039063, 1.87792969, 0.8701172, 1.11425781, -1.65722656, 2.234375, -1.88964844, -4.921875, 3.359375, -5.23046875, -4.640625, -3.33789063, 0.728027344, 4.38671875, -2.98046875, 2.25, -4.48046875, -0.07330322, 0.282714844, -1.5, 1.62792969, -1.0390625, -3.671875, -4.65234375, 1.875, -2.171875, -0.922851563, 5.26953125, 1.53320313, 0.97265625, -1.55566406, -4.08203125, -1.65625, 1.671875, -0.863769531, -0.1472168, 2.3515625, 3.0703125, -1.1015625, -0.98046875, 0.446289063, -2.98046875, -0.41015625, -1.71484375, 1.70214844, 1.33007813, 0.6484375, -2.75976563, 0.62890625, 3.09765625, -3.55664063, -0.850585938, 0.08996582, 1.12988281, 0.280517578, 0.8959961, 4.7265625, -2.13867188, -0.613769531, -2.66992188, -4.421875, -1.59667969, -0.8925781, 0.393310547, -3.00585938, -3.23632813, 0.9536133, -0.7060547, -1.30273438, -0.98046875, 0.920898438, -2.52539063, 1.13574219, 0.219604492, 0.3449707, -1.92871094, 0.31640625, 0.96875, 1.34570313, -2.75585938, 2.15429688, 4.11328125, -2.49023438, 0.79296875, -1.20019531, -1.44335938, -1.35449219, -2.88671875, 0.563476563, -0.55859375, 1.44921875, -1.97460938, -1.26464844, 0.3425293, 2.33203125, 1.24511719, 0.200195313, -6.04296875, 3.41015625, -4.06640625, -0.405517578, -2.3359375, -0.584960938, 0.372802734, -0.80078125, 1.19238281, -1.20117188, 0.6269531, 7.31640625, 0.998535156, 0.6147461, 3.33789063, 0.0668334961, -2.4140625, -1.33496094, -0.0312347412, -2.66992188, 2.11328125, 3.50585938, 0.6166992, 5.2890625, -0.4724121, -3.01171875, 2.28710938, 1.66308594, 4.33984375, -4.72265625, 2.0078125, 0.29296875, 0.659667969, -1.68847656, -0.8876953, -2.03710938, -3.56835938, -1.85449219, 0.584472656, 2.67578125, -0.447265625, 1.17089844, 0.7709961, -0.6064453, 1.97753906, 1.60253906, 0.506347656, 0.77734375, -0.345703125, 0.0311889648, 2.65039063, 2.50976563, -4.48046875, 1.73925781, 1.25097656, -2.51757813, 3.02734375, 4.6484375, -1.00097656, -3.83203125, -2.1875, -1.41308594, 1.99902344, -2.84570313, -2.74023438, -1.46191406, -2.71289063, 0.633789063, -1.04492188, -1.81152344, 3.57421875, 0.829589844, -2.15234375, 2.375, 1.90722656, 4.09375, 0.189453125, -9.03125, -1.78417969, -1.40429688, 0.279785156, 4.46875, -0.1640625, -4.33203125, 11.3828125, -2.67578125, -1.89453125, 0.2322998, 0.492431641, 3.81835938, -1.44335938, 1.42871094, 1.96484375, -0.3486328, -16.03125, 0.7792969, 0.723144531, 2.82421875, 1.609375, 0.7441406, 0.289550781, 2.60546875, -1.50292969, -2.21679688, 3.1875, 3.12890625, 0.231811523, -1.921875, 12.3046875, -1.50292969, -1.86230469, 1.6640625, 3.859375, 1.06933594, -1.04199219, -0.446777344, -0.0547790527, -2.65820313, -4.125, 0.07122803, -1.13574219, 4.4375, -1.27050781, -0.14440918, -0.372802734, -2.83203125, 0.0576782227, -1.83300781, -1.6640625, -2.44335938, 3.23242188, 2.421875, 0.8618164, 2.70507813, -0.227416992, 3.43554688, 0.2043457, -0.72265625, 0.988769531, 3.89648438, -1.03125, -7.2421875, 1.55078125, -3.37695313, -0.01675415, -3.59765625, 2.91796875, -1.38574219, 1.109375, 1.41308594, 1.74414063, 1.375, 1.72363281, -0.738769531, 1.16894531, 11.0859375, 15.5546875, -2.98632813, 2.80273438, 0.271240234, -3.078125, 0.05407715, -4.42578125, -0.37109375, -5.859375, 1.83984375, -4.20703125, -1.75390625, 3.1796875, 1.97070313, 1.93945313, -0.09442139, 3.21289063, -1.39648438, -0.5449219, 0.467773438, -3.05078125, 0.7392578, -1.13183594, -0.05130005, 1.02441406, -4.4921875, 0.348388672, 1.41308594, 0.813964844, -5.61328125, 2.92382813, 2.83203125, 0.7578125, 1.14941406, -0.9536133, 1.21484375, -0.60546875, 2.22460938, 1.02929688, -0.6074219, 1.95996094, 2.578125, -1.77636719, 2.66210938, -0.358398438, 2.06445313, 1.74121094, -3.11132813, -1.68847656, 0.00120258331, 0.157226563, 3.50390625, -0.645019531, -0.2442627, 2.1640625, 1.46582031, 1.69628906, 1.71777344, -3.390625, 0.7578125, -1.35058594, 2.2109375, -1.49804688, 0.0793457, 0.0141677856, -0.7416992, 0.422851563, -1.04492188, -1.13085938, -0.0252838135, -1.35644531, -0.9067383, -0.229125977, 5.23046875, -0.140258789, 1.81347656, -1.03222656, 2.26367188, 0.265625, -1.47558594, 0.9194336, -0.0640869141, 16.375, 2.23828125, 6.6796875, 0.300048828, 1.62402344, -0.8588867, 2.98242188, 2.81835938, -1.80371094, -1.26757813, -2.375, -3.578125, -1.50976563, -0.9609375, -0.686523438, 4.296875, -2.42578125, -1.43359375, -0.134521484, -1.13378906, -0.404052734, 0.146240234, 1.80761719, -0.0270385742, 1.88085938, -1.83886719, -5.8828125, 1.99609375, -0.230224609, -3.66796875, 2.01367188, -6.28125, -0.210693359, -1.37792969, 2.33007813, 0.328125, -5.8984375, -0.0231323242, -1.77832031, -0.424560547, -6.00390625, 2.8671875, 4.44921875, 1.1171875, -1.58300781, -8.8359375, -2.109375, 1.41015625, -0.8520508, 0.5107422, 1.59082031, 2.109375, 0.68359375, -2.35546875, 1.98632813, -3.890625, 3.77539063, -1.63671875, 0.6123047, 3.93359375, -2.5546875, 1.55175781, -0.7895508, -3.23242188, -1.05273438, 1.39648438, -2.48242188, -2.74804688, 0.5991211, -0.703125, 1.29101563, 1.27734375, 0.229492188, -1.01660156, 3.72460938, -2.8984375, 2.8046875, -4.65234375, 3.05078125, -1.00976563, 1.14648438, -1.26953125, -0.9121094, 3.05273438, 1.1328125, -3.01757813, 2.80859375, -4.91015625, 0.01612854, -0.166015625, 1.75, -5.21875, -3.2421875, -1.18261719, -5.01171875, -19.234375, 0.465576172, 1.11523438, 2.33398438, 1.10546875, -1.66894531, -0.48046875, 2.65039063, -0.931152344, 0.6123047, 1.06445313, 0.788085938, 2.49023438, -2.55273438, 0.3269043, 1.38574219, -1.98339844, 2.0625, 3.171875, -4.30859375, 0.374511719, 1.94824219, 2.70507813, 0.260986328, -4.10546875, 2.62109375, 2.39648438, -0.404541016, 2.26757813, -4.26953125, 1.11425781, -6.89453125, 1.30566406, -0.0242767334, -2.49023438, 3.24414063, -0.8798828, 4.4453125, 2.07421875, 1.06640625, 3.53710938, -0.92578125, 2.6484375, -8.453125, 2.54492188, 2.26757813, -5.70703125, 1.62597656, -2.9375, -0.8046875, -6.16796875, -1.02539063, 2.27929688, 1.77246094, 2.18945313, 1.37988281, -0.282958984, 0.0473938, -2.65625, 0.187133789, 1.13671875, -1.40722656, -5.71875, -2.9921875]\n"
     ]
    }
   ],
   "source": [
    "text = \"8683522157586\"\n",
    "print(\"Let's query the index with text =\", text, \"\\n\")\n",
    "\n",
    "response = search_client.search(search_text=text)\n",
    "\n",
    "for result in response:\n",
    "    print(\"Id file:\", result[\"idfile\"])\n",
    "    print(\"\\nFilename:\", result[\"imagefile\"])\n",
    "    print(\"\\nVector embedding size:\", len(result[\"imagevector\"]))\n",
    "    print(\"\\nVector embedding:\", result[\"imagevector\"])"
   ]
  },
  {
   "cell_type": "code",
   "execution_count": null,
   "metadata": {},
   "outputs": [],
   "source": []
  }
 ],
 "metadata": {
  "kernelspec": {
   "display_name": "Python 3 (ipykernel)",
   "language": "python",
   "name": "python3"
  },
  "language_info": {
   "codemirror_mode": {
    "name": "ipython",
    "version": 3
   },
   "file_extension": ".py",
   "mimetype": "text/x-python",
   "name": "python",
   "nbconvert_exporter": "python",
   "pygments_lexer": "ipython3",
   "version": "3.9.6"
  }
 },
 "nbformat": 4,
 "nbformat_minor": 2
}
